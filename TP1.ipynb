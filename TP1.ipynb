import numpy as np

A = np.array([[10, 7, 8, 7],
              [7, 5, 6, 5],
              [8, 6, 10, 9],
              [7, 5, 9, 10]])

b = np.array([32, 23, 33, 31])

vp = np.linalg.eigvals(A)

if np.all(vp > 0):
    print("La matrice est symétrique définie positive.")
else:
    print("La matrice n'est pas symétrique définie positive.")

def cond_2(A):
    A_conj_tran = np.conjugate(np.transpose(A))
    A_A = np.dot(A_conj_tran, A)
    vp = np.linalg.eigvals(A_A)
    c = np.max(np.sqrt(np.abs(vp))) / np.min(np.sqrt(np.abs(vp)))
    return c

if cond_2(A) == np.linalg.cond(A):
    print("le conditionnement 2 est verifié")
else:
    print("le conditionnement 2 n'est pas verifié")

x = np.linalg.solve(A, b)
print("Solution du système d'équations linéaires:")
print(x)

delta_b = np.array([0.1, -0.1, 0.1, -0.1])

y = np.linalg.solve(A, b + delta_b)
print(y)

delta_x = y - x

def comparer(a,b):
    return a == b

norm_delta_b = np.linalg.norm(delta_b)
norm_b = np.linalg.norm(b)

norm_delta_x = np.linalg.norm(delta_x)
norm_x = np.linalg.norm(x)

k1 = comparer(norm_delta_b / norm_b, norm_delta_x / norm_x)
print(k1)

if np.array_equal(np.linalg.eigvals(A_A), np.linalg.eigvals(A)):
    if norm_delta_x / norm_x <= cond_2(A) * norm_delta_b / norm_b:
        print("La condition est vérifiée : norm_delta_x / norm_x <= cond_2(A) * norm_delta_b / norm_b")
else:
  print("Les valeurs propres de A_A ne sont pas les mêmes que celles de A.")

    print("Les valeurs propres de A_A ne sont pas les mêmes que celles de A.")
