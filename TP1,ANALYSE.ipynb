{
 "cells": [
  {
   "cell_type": "code",
   "execution_count": 17,
   "id": "cb606254",
   "metadata": {},
   "outputs": [
    {
     "data": {
      "text/plain": [
       "array([[20, 34, 42, 23, 20, 16, 13,  5, 15],\n",
       "       [34, 38, 47, 43, 17, 26, 23, 14, 15],\n",
       "       [42, 47, 46, 53, 24, 44, 28, 21, 19],\n",
       "       [23, 43, 53, 26, 36, 25, 17,  6, 29],\n",
       "       [20, 17, 24, 36,  8, 29, 39, 30, 14],\n",
       "       [16, 26, 44, 25, 29, 26, 34, 18, 34],\n",
       "       [13, 23, 28, 17, 39, 34, 22, 12, 39],\n",
       "       [ 5, 14, 21,  6, 30, 18, 12,  4, 30],\n",
       "       [15, 15, 19, 29, 14, 34, 39, 30, 20]])"
      ]
     },
     "execution_count": 17,
     "metadata": {},
     "output_type": "execute_result"
    }
   ],
   "source": [
    "import numpy as np\n",
    "\n",
    "A=np.array([[0,1,1,0,0,0,0,0,0],[1,0,1,1,0,0,0,0,0],[1,1,0,1,0,1,0,0,0],[0,1,1,0,1,0,0,0,0],[0,0,0,1,0,0,1,1,0],[0,0,1,0,0,0,1,0,1],[0,0,0,0,1,1,0,0,1],[0,0,0,0,1,0,0,0,1],[0,0,0,0,0,1,1,1,0]])\n",
    "np.linalg.matrix_power(A,5)"
   ]
  },
  {
   "cell_type": "markdown",
   "id": "f5ae119d",
   "metadata": {},
   "source": [
    "### ouais il a 15 chemins possible"
   ]
  },
  {
   "cell_type": "markdown",
   "id": "1b7541ce",
   "metadata": {},
   "source": [
    "### Exercice 4:"
   ]
  },
  {
   "cell_type": "code",
   "execution_count": 39,
   "id": "8f0154a2",
   "metadata": {},
   "outputs": [
    {
     "name": "stdout",
     "output_type": "stream",
     "text": [
      "[0.35493754 0.98085272 0.88255112]\n"
     ]
    }
   ],
   "source": [
    "a=np.random.random(size=3)\n",
    "np.sort(a)\n",
    "print(a)"
   ]
  },
  {
   "cell_type": "code",
   "execution_count": 40,
   "id": "deb8028b",
   "metadata": {},
   "outputs": [
    {
     "name": "stdout",
     "output_type": "stream",
     "text": [
      "[[0.35493754 0.         0.        ]\n",
      " [0.         0.98085272 0.        ]\n",
      " [0.         0.         0.88255112]]\n"
     ]
    }
   ],
   "source": [
    "D=np.diagflat(a)\n",
    "print(D)"
   ]
  },
  {
   "cell_type": "code",
   "execution_count": 41,
   "id": "f3cd774b",
   "metadata": {},
   "outputs": [
    {
     "data": {
      "text/plain": [
       "array([[ 3. , -1. , -1. ],\n",
       "       [ 0.5, -1. ,  0.5],\n",
       "       [-1. ,  1. ,  0. ]])"
      ]
     },
     "execution_count": 41,
     "metadata": {},
     "output_type": "execute_result"
    }
   ],
   "source": [
    "P=[[1,2,3],[1,2,4],[1,4,5]]\n",
    "np.linalg.inv(P)"
   ]
  },
  {
   "cell_type": "code",
   "execution_count": 42,
   "id": "e6c17be5",
   "metadata": {},
   "outputs": [
    {
     "name": "stdout",
     "output_type": "stream",
     "text": [
      "[[-5.77350269e-01 -4.08248290e-01 -7.07106781e-01]\n",
      " [-5.77350269e-01 -4.08248290e-01  7.07106781e-01]\n",
      " [-5.77350269e-01  8.16496581e-01 -2.25745422e-16]] [[-1.73205081 -4.61880215 -6.92820323]\n",
      " [ 0.          1.63299316  1.22474487]\n",
      " [ 0.          0.          0.70710678]]\n"
     ]
    }
   ],
   "source": [
    "Q,R=np.linalg.qr(P)\n",
    "print(Q,R)"
   ]
  },
  {
   "cell_type": "code",
   "execution_count": 43,
   "id": "d42c9240",
   "metadata": {},
   "outputs": [
    {
     "name": "stdout",
     "output_type": "stream",
     "text": [
      "[[ 0.72306352 -0.15948759 -0.20863839]\n",
      " [-0.15948759  0.72306352 -0.20863839]\n",
      " [-0.20863839 -0.20863839  0.77221433]]\n"
     ]
    }
   ],
   "source": [
    "Q1=Q.dot(D)\n",
    "A=Q1.dot(Q.T)\n",
    "print(A)"
   ]
  },
  {
   "cell_type": "code",
   "execution_count": 53,
   "id": "e1a07d12",
   "metadata": {},
   "outputs": [
    {
     "name": "stdout",
     "output_type": "stream",
     "text": [
      "[-8.01207736e-01  8.01207736e-01 -1.24600680e-16]\n"
     ]
    }
   ],
   "source": [
    "b=Q[:,2]\n",
    "x=np.linalg.solve(A,b)\n",
    "print(x)"
   ]
  },
  {
   "cell_type": "code",
   "execution_count": 52,
   "id": "712000a8",
   "metadata": {},
   "outputs": [
    {
     "name": "stdout",
     "output_type": "stream",
     "text": [
      "[-8.01207736e-01  8.01207736e-01 -2.55787363e-16]\n"
     ]
    }
   ],
   "source": [
    "print((1/a[2])*b)"
   ]
  },
  {
   "cell_type": "code",
   "execution_count": 56,
   "id": "7af9dcc0",
   "metadata": {
    "scrolled": true
   },
   "outputs": [
    {
     "name": "stdout",
     "output_type": "stream",
     "text": [
      "[-13.01299977 -13.01299977 -13.01299977]\n"
     ]
    }
   ],
   "source": [
    "ep=8\n",
    "db=ep*Q[:,0]\n",
    "dx=np.linalg.solve(A,db)\n",
    "print(dx)"
   ]
  },
  {
   "cell_type": "code",
   "execution_count": 57,
   "id": "49892b33",
   "metadata": {},
   "outputs": [
    {
     "name": "stdout",
     "output_type": "stream",
     "text": [
      "[-13.01299977 -13.01299977 -13.01299977]\n"
     ]
    }
   ],
   "source": [
    "print((1/a[0])*db)"
   ]
  },
  {
   "cell_type": "code",
   "execution_count": 62,
   "id": "5c98e4cc",
   "metadata": {},
   "outputs": [
    {
     "name": "stdout",
     "output_type": "stream",
     "text": [
      "22.107612766258523\n"
     ]
    }
   ],
   "source": [
    "print(np.linalg.cond(A)*(np.linalg.norm(db)/np.linalg.norm(b)))"
   ]
  },
  {
   "cell_type": "code",
   "execution_count": 63,
   "id": "cd4f4391",
   "metadata": {},
   "outputs": [
    {
     "name": "stdout",
     "output_type": "stream",
     "text": [
      "19.891975583073275\n"
     ]
    }
   ],
   "source": [
    "print((np.linalg.norm(dx)/np.linalg.norm(x)))"
   ]
  },
  {
   "cell_type": "markdown",
   "id": "2607b57e",
   "metadata": {},
   "source": [
    "### Pourquoi c'est pas la meme chose"
   ]
  },
  {
   "cell_type": "code",
   "execution_count": null,
   "id": "b7cf7d95",
   "metadata": {},
   "outputs": [],
   "source": []
  }
 ],
 "metadata": {
  "kernelspec": {
   "display_name": "Python 3 (ipykernel)",
   "language": "python",
   "name": "python3"
  },
  "language_info": {
   "codemirror_mode": {
    "name": "ipython",
    "version": 3
   },
   "file_extension": ".py",
   "mimetype": "text/x-python",
   "name": "python",
   "nbconvert_exporter": "python",
   "pygments_lexer": "ipython3",
   "version": "3.11.5"
  }
 },
 "nbformat": 4,
 "nbformat_minor": 5
}
